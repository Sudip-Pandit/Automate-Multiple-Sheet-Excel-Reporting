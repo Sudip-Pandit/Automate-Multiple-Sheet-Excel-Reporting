{
 "cells": [
  {
   "cell_type": "code",
   "execution_count": 16,
   "metadata": {},
   "outputs": [],
   "source": [
    "#import the libraries\n",
    "import pandas as pd\n",
    "import numpy as np\n",
    "import matplotlib.pyplot as plt\n",
    "%matplotlib inline"
   ]
  },
  {
   "cell_type": "code",
   "execution_count": 17,
   "metadata": {},
   "outputs": [],
   "source": [
    "#load the files\n",
    "df=pd.read_excel('shift-data.xlsx', 'second')"
   ]
  },
  {
   "cell_type": "code",
   "execution_count": 18,
   "metadata": {},
   "outputs": [
    {
     "data": {
      "text/html": [
       "<div>\n",
       "<style scoped>\n",
       "    .dataframe tbody tr th:only-of-type {\n",
       "        vertical-align: middle;\n",
       "    }\n",
       "\n",
       "    .dataframe tbody tr th {\n",
       "        vertical-align: top;\n",
       "    }\n",
       "\n",
       "    .dataframe thead th {\n",
       "        text-align: right;\n",
       "    }\n",
       "</style>\n",
       "<table border=\"1\" class=\"dataframe\">\n",
       "  <thead>\n",
       "    <tr style=\"text-align: right;\">\n",
       "      <th></th>\n",
       "      <th>Shift</th>\n",
       "      <th>Clock Number</th>\n",
       "      <th>Name</th>\n",
       "      <th>Product</th>\n",
       "      <th>Production Run Time (Min)</th>\n",
       "      <th>Products Produced (Units)</th>\n",
       "    </tr>\n",
       "  </thead>\n",
       "  <tbody>\n",
       "    <tr>\n",
       "      <th>0</th>\n",
       "      <td>2</td>\n",
       "      <td>223768</td>\n",
       "      <td>Oliver</td>\n",
       "      <td>Mushroom</td>\n",
       "      <td>45</td>\n",
       "      <td>74</td>\n",
       "    </tr>\n",
       "    <tr>\n",
       "      <th>1</th>\n",
       "      <td>2</td>\n",
       "      <td>223564</td>\n",
       "      <td>Emily</td>\n",
       "      <td>Pepperoni</td>\n",
       "      <td>52</td>\n",
       "      <td>92</td>\n",
       "    </tr>\n",
       "    <tr>\n",
       "      <th>2</th>\n",
       "      <td>2</td>\n",
       "      <td>223954</td>\n",
       "      <td>Francesco</td>\n",
       "      <td>Cheese</td>\n",
       "      <td>41</td>\n",
       "      <td>70</td>\n",
       "    </tr>\n",
       "    <tr>\n",
       "      <th>3</th>\n",
       "      <td>2</td>\n",
       "      <td>223564</td>\n",
       "      <td>Emily</td>\n",
       "      <td>Sausage</td>\n",
       "      <td>39</td>\n",
       "      <td>94</td>\n",
       "    </tr>\n",
       "    <tr>\n",
       "      <th>4</th>\n",
       "      <td>2</td>\n",
       "      <td>223114</td>\n",
       "      <td>Camila</td>\n",
       "      <td>Mushroom</td>\n",
       "      <td>49</td>\n",
       "      <td>89</td>\n",
       "    </tr>\n",
       "  </tbody>\n",
       "</table>\n",
       "</div>"
      ],
      "text/plain": [
       "   Shift  Clock Number       Name    Product  Production Run Time (Min)  \\\n",
       "0      2        223768     Oliver   Mushroom                         45   \n",
       "1      2        223564      Emily  Pepperoni                         52   \n",
       "2      2        223954  Francesco     Cheese                         41   \n",
       "3      2        223564      Emily    Sausage                         39   \n",
       "4      2        223114     Camila   Mushroom                         49   \n",
       "\n",
       "   Products Produced (Units)  \n",
       "0                         74  \n",
       "1                         92  \n",
       "2                         70  \n",
       "3                         94  \n",
       "4                         89  "
      ]
     },
     "execution_count": 18,
     "metadata": {},
     "output_type": "execute_result"
    }
   ],
   "source": [
    "df.head()"
   ]
  },
  {
   "cell_type": "code",
   "execution_count": 19,
   "metadata": {},
   "outputs": [],
   "source": [
    "df1=pd.read_excel('shift-data.xlsx', 'first')"
   ]
  },
  {
   "cell_type": "code",
   "execution_count": 20,
   "metadata": {},
   "outputs": [
    {
     "data": {
      "text/html": [
       "<div>\n",
       "<style scoped>\n",
       "    .dataframe tbody tr th:only-of-type {\n",
       "        vertical-align: middle;\n",
       "    }\n",
       "\n",
       "    .dataframe tbody tr th {\n",
       "        vertical-align: top;\n",
       "    }\n",
       "\n",
       "    .dataframe thead th {\n",
       "        text-align: right;\n",
       "    }\n",
       "</style>\n",
       "<table border=\"1\" class=\"dataframe\">\n",
       "  <thead>\n",
       "    <tr style=\"text-align: right;\">\n",
       "      <th></th>\n",
       "      <th>Shift</th>\n",
       "      <th>Clock Number</th>\n",
       "      <th>Name</th>\n",
       "      <th>Product</th>\n",
       "      <th>Production Run Time (Min)</th>\n",
       "      <th>Products Produced (Units)</th>\n",
       "    </tr>\n",
       "  </thead>\n",
       "  <tbody>\n",
       "    <tr>\n",
       "      <th>0</th>\n",
       "      <td>1</td>\n",
       "      <td>123654</td>\n",
       "      <td>Pete</td>\n",
       "      <td>Pepperoni</td>\n",
       "      <td>46</td>\n",
       "      <td>107</td>\n",
       "    </tr>\n",
       "    <tr>\n",
       "      <th>1</th>\n",
       "      <td>1</td>\n",
       "      <td>123498</td>\n",
       "      <td>Abdul</td>\n",
       "      <td>Cheese</td>\n",
       "      <td>56</td>\n",
       "      <td>20</td>\n",
       "    </tr>\n",
       "    <tr>\n",
       "      <th>2</th>\n",
       "      <td>1</td>\n",
       "      <td>123999</td>\n",
       "      <td>Emma</td>\n",
       "      <td>Mushroom</td>\n",
       "      <td>42</td>\n",
       "      <td>65</td>\n",
       "    </tr>\n",
       "    <tr>\n",
       "      <th>3</th>\n",
       "      <td>1</td>\n",
       "      <td>123654</td>\n",
       "      <td>Pete</td>\n",
       "      <td>Pepperoni</td>\n",
       "      <td>47</td>\n",
       "      <td>83</td>\n",
       "    </tr>\n",
       "    <tr>\n",
       "      <th>4</th>\n",
       "      <td>1</td>\n",
       "      <td>123498</td>\n",
       "      <td>Abdul</td>\n",
       "      <td>Mushroom</td>\n",
       "      <td>54</td>\n",
       "      <td>58</td>\n",
       "    </tr>\n",
       "  </tbody>\n",
       "</table>\n",
       "</div>"
      ],
      "text/plain": [
       "   Shift  Clock Number   Name    Product  Production Run Time (Min)  \\\n",
       "0      1        123654   Pete  Pepperoni                         46   \n",
       "1      1        123498  Abdul     Cheese                         56   \n",
       "2      1        123999   Emma   Mushroom                         42   \n",
       "3      1        123654   Pete  Pepperoni                         47   \n",
       "4      1        123498  Abdul   Mushroom                         54   \n",
       "\n",
       "   Products Produced (Units)  \n",
       "0                        107  \n",
       "1                         20  \n",
       "2                         65  \n",
       "3                         83  \n",
       "4                         58  "
      ]
     },
     "execution_count": 20,
     "metadata": {},
     "output_type": "execute_result"
    }
   ],
   "source": [
    "df1.head()"
   ]
  },
  {
   "cell_type": "code",
   "execution_count": 22,
   "metadata": {},
   "outputs": [],
   "source": [
    "df2=pd.read_excel('third-shift-data.xlsx', 'Sheet1')"
   ]
  },
  {
   "cell_type": "code",
   "execution_count": 23,
   "metadata": {},
   "outputs": [
    {
     "data": {
      "text/html": [
       "<div>\n",
       "<style scoped>\n",
       "    .dataframe tbody tr th:only-of-type {\n",
       "        vertical-align: middle;\n",
       "    }\n",
       "\n",
       "    .dataframe tbody tr th {\n",
       "        vertical-align: top;\n",
       "    }\n",
       "\n",
       "    .dataframe thead th {\n",
       "        text-align: right;\n",
       "    }\n",
       "</style>\n",
       "<table border=\"1\" class=\"dataframe\">\n",
       "  <thead>\n",
       "    <tr style=\"text-align: right;\">\n",
       "      <th></th>\n",
       "      <th>Shift</th>\n",
       "      <th>Clock Number</th>\n",
       "      <th>Name</th>\n",
       "      <th>Product</th>\n",
       "      <th>Production Run Time (Min)</th>\n",
       "      <th>Products Produced (Units)</th>\n",
       "    </tr>\n",
       "  </thead>\n",
       "  <tbody>\n",
       "    <tr>\n",
       "      <th>0</th>\n",
       "      <td>3</td>\n",
       "      <td>322976</td>\n",
       "      <td>Chuck</td>\n",
       "      <td>Cheese</td>\n",
       "      <td>53</td>\n",
       "      <td>111</td>\n",
       "    </tr>\n",
       "    <tr>\n",
       "      <th>1</th>\n",
       "      <td>3</td>\n",
       "      <td>322486</td>\n",
       "      <td>Omar</td>\n",
       "      <td>Mushroom</td>\n",
       "      <td>47</td>\n",
       "      <td>117</td>\n",
       "    </tr>\n",
       "    <tr>\n",
       "      <th>2</th>\n",
       "      <td>3</td>\n",
       "      <td>322488</td>\n",
       "      <td>Gabrielle</td>\n",
       "      <td>Mushroom</td>\n",
       "      <td>46</td>\n",
       "      <td>123</td>\n",
       "    </tr>\n",
       "    <tr>\n",
       "      <th>3</th>\n",
       "      <td>3</td>\n",
       "      <td>322488</td>\n",
       "      <td>Gabrielle</td>\n",
       "      <td>Cheese</td>\n",
       "      <td>49</td>\n",
       "      <td>126</td>\n",
       "    </tr>\n",
       "    <tr>\n",
       "      <th>4</th>\n",
       "      <td>3</td>\n",
       "      <td>322231</td>\n",
       "      <td>Sara</td>\n",
       "      <td>Pepperoni</td>\n",
       "      <td>39</td>\n",
       "      <td>117</td>\n",
       "    </tr>\n",
       "  </tbody>\n",
       "</table>\n",
       "</div>"
      ],
      "text/plain": [
       "   Shift  Clock Number       Name    Product  Production Run Time (Min)  \\\n",
       "0      3        322976      Chuck     Cheese                         53   \n",
       "1      3        322486       Omar   Mushroom                         47   \n",
       "2      3        322488  Gabrielle   Mushroom                         46   \n",
       "3      3        322488  Gabrielle     Cheese                         49   \n",
       "4      3        322231       Sara  Pepperoni                         39   \n",
       "\n",
       "   Products Produced (Units)  \n",
       "0                        111  \n",
       "1                        117  \n",
       "2                        123  \n",
       "3                        126  \n",
       "4                        117  "
      ]
     },
     "execution_count": 23,
     "metadata": {},
     "output_type": "execute_result"
    }
   ],
   "source": [
    "df2.head()"
   ]
  },
  {
   "cell_type": "code",
   "execution_count": 24,
   "metadata": {},
   "outputs": [
    {
     "name": "stdout",
     "output_type": "stream",
     "text": [
      "0        Cheese\n",
      "1      Mushroom\n",
      "2      Mushroom\n",
      "3        Cheese\n",
      "4     Pepperoni\n",
      "5     Pepperoni\n",
      "6        Cheese\n",
      "7       Sausage\n",
      "8       Sausage\n",
      "9       Sausage\n",
      "10       Cheese\n",
      "11    Pepperoni\n",
      "12    Pepperoni\n",
      "13       Cheese\n",
      "14     Mushroom\n",
      "15     Mushroom\n",
      "16     Mushroom\n",
      "17       Cheese\n",
      "18    Pepperoni\n",
      "19    Pepperoni\n",
      "20    Pepperoni\n",
      "21      Sausage\n",
      "22      Sausage\n",
      "23       Cheese\n",
      "24     Mushroom\n",
      "25     Mushroom\n",
      "26       Cheese\n",
      "27      Sausage\n",
      "28    Pepperoni\n",
      "Name: Product, dtype: object\n"
     ]
    }
   ],
   "source": [
    "print(df2['Product'])"
   ]
  },
  {
   "cell_type": "markdown",
   "metadata": {},
   "source": [
    "### Combining data together"
   ]
  },
  {
   "cell_type": "code",
   "execution_count": 27,
   "metadata": {},
   "outputs": [],
   "source": [
    "df_combine=pd.concat([df,df1,df2])"
   ]
  },
  {
   "cell_type": "code",
   "execution_count": 28,
   "metadata": {},
   "outputs": [
    {
     "name": "stdout",
     "output_type": "stream",
     "text": [
      "    Shift  Clock Number       Name    Product  Production Run Time (Min)  \\\n",
      "0       2        223768     Oliver   Mushroom                         45   \n",
      "1       2        223564      Emily  Pepperoni                         52   \n",
      "2       2        223954  Francesco     Cheese                         41   \n",
      "3       2        223564      Emily    Sausage                         39   \n",
      "4       2        223114     Camila   Mushroom                         49   \n",
      "..    ...           ...        ...        ...                        ...   \n",
      "24      3        322488  Gabrielle   Mushroom                         42   \n",
      "25      3        322486       Omar   Mushroom                         43   \n",
      "26      3        322976      Chuck     Cheese                         47   \n",
      "27      3        322488  Gabrielle    Sausage                         45   \n",
      "28      3        322976      Chuck  Pepperoni                         44   \n",
      "\n",
      "    Products Produced (Units)  \n",
      "0                          74  \n",
      "1                          92  \n",
      "2                          70  \n",
      "3                          94  \n",
      "4                          89  \n",
      "..                        ...  \n",
      "24                        134  \n",
      "25                        132  \n",
      "26                        143  \n",
      "27                        136  \n",
      "28                        132  \n",
      "\n",
      "[87 rows x 6 columns]\n"
     ]
    }
   ],
   "source": [
    "print(df_combine)"
   ]
  },
  {
   "cell_type": "code",
   "execution_count": 29,
   "metadata": {},
   "outputs": [
    {
     "data": {
      "text/html": [
       "<div>\n",
       "<style scoped>\n",
       "    .dataframe tbody tr th:only-of-type {\n",
       "        vertical-align: middle;\n",
       "    }\n",
       "\n",
       "    .dataframe tbody tr th {\n",
       "        vertical-align: top;\n",
       "    }\n",
       "\n",
       "    .dataframe thead th {\n",
       "        text-align: right;\n",
       "    }\n",
       "</style>\n",
       "<table border=\"1\" class=\"dataframe\">\n",
       "  <thead>\n",
       "    <tr style=\"text-align: right;\">\n",
       "      <th></th>\n",
       "      <th>Shift</th>\n",
       "      <th>Clock Number</th>\n",
       "      <th>Name</th>\n",
       "      <th>Product</th>\n",
       "      <th>Production Run Time (Min)</th>\n",
       "      <th>Products Produced (Units)</th>\n",
       "    </tr>\n",
       "  </thead>\n",
       "  <tbody>\n",
       "    <tr>\n",
       "      <th>0</th>\n",
       "      <td>2</td>\n",
       "      <td>223768</td>\n",
       "      <td>Oliver</td>\n",
       "      <td>Mushroom</td>\n",
       "      <td>45</td>\n",
       "      <td>74</td>\n",
       "    </tr>\n",
       "    <tr>\n",
       "      <th>1</th>\n",
       "      <td>2</td>\n",
       "      <td>223564</td>\n",
       "      <td>Emily</td>\n",
       "      <td>Pepperoni</td>\n",
       "      <td>52</td>\n",
       "      <td>92</td>\n",
       "    </tr>\n",
       "    <tr>\n",
       "      <th>2</th>\n",
       "      <td>2</td>\n",
       "      <td>223954</td>\n",
       "      <td>Francesco</td>\n",
       "      <td>Cheese</td>\n",
       "      <td>41</td>\n",
       "      <td>70</td>\n",
       "    </tr>\n",
       "    <tr>\n",
       "      <th>3</th>\n",
       "      <td>2</td>\n",
       "      <td>223564</td>\n",
       "      <td>Emily</td>\n",
       "      <td>Sausage</td>\n",
       "      <td>39</td>\n",
       "      <td>94</td>\n",
       "    </tr>\n",
       "    <tr>\n",
       "      <th>4</th>\n",
       "      <td>2</td>\n",
       "      <td>223114</td>\n",
       "      <td>Camila</td>\n",
       "      <td>Mushroom</td>\n",
       "      <td>49</td>\n",
       "      <td>89</td>\n",
       "    </tr>\n",
       "    <tr>\n",
       "      <th>5</th>\n",
       "      <td>2</td>\n",
       "      <td>223114</td>\n",
       "      <td>Camila</td>\n",
       "      <td>Cheese</td>\n",
       "      <td>55</td>\n",
       "      <td>82</td>\n",
       "    </tr>\n",
       "    <tr>\n",
       "      <th>6</th>\n",
       "      <td>2</td>\n",
       "      <td>223114</td>\n",
       "      <td>Camila</td>\n",
       "      <td>Pepperoni</td>\n",
       "      <td>52</td>\n",
       "      <td>75</td>\n",
       "    </tr>\n",
       "    <tr>\n",
       "      <th>7</th>\n",
       "      <td>2</td>\n",
       "      <td>223954</td>\n",
       "      <td>Francesco</td>\n",
       "      <td>Pepperoni</td>\n",
       "      <td>46</td>\n",
       "      <td>66</td>\n",
       "    </tr>\n",
       "  </tbody>\n",
       "</table>\n",
       "</div>"
      ],
      "text/plain": [
       "   Shift  Clock Number       Name    Product  Production Run Time (Min)  \\\n",
       "0      2        223768     Oliver   Mushroom                         45   \n",
       "1      2        223564      Emily  Pepperoni                         52   \n",
       "2      2        223954  Francesco     Cheese                         41   \n",
       "3      2        223564      Emily    Sausage                         39   \n",
       "4      2        223114     Camila   Mushroom                         49   \n",
       "5      2        223114     Camila     Cheese                         55   \n",
       "6      2        223114     Camila  Pepperoni                         52   \n",
       "7      2        223954  Francesco  Pepperoni                         46   \n",
       "\n",
       "   Products Produced (Units)  \n",
       "0                         74  \n",
       "1                         92  \n",
       "2                         70  \n",
       "3                         94  \n",
       "4                         89  \n",
       "5                         82  \n",
       "6                         75  \n",
       "7                         66  "
      ]
     },
     "execution_count": 29,
     "metadata": {},
     "output_type": "execute_result"
    }
   ],
   "source": [
    "df_combine.head(n=8)"
   ]
  },
  {
   "cell_type": "code",
   "execution_count": 30,
   "metadata": {},
   "outputs": [
    {
     "data": {
      "text/html": [
       "<div>\n",
       "<style scoped>\n",
       "    .dataframe tbody tr th:only-of-type {\n",
       "        vertical-align: middle;\n",
       "    }\n",
       "\n",
       "    .dataframe tbody tr th {\n",
       "        vertical-align: top;\n",
       "    }\n",
       "\n",
       "    .dataframe thead th {\n",
       "        text-align: right;\n",
       "    }\n",
       "</style>\n",
       "<table border=\"1\" class=\"dataframe\">\n",
       "  <thead>\n",
       "    <tr style=\"text-align: right;\">\n",
       "      <th></th>\n",
       "      <th>Shift</th>\n",
       "      <th>Clock Number</th>\n",
       "      <th>Name</th>\n",
       "      <th>Product</th>\n",
       "      <th>Production Run Time (Min)</th>\n",
       "      <th>Products Produced (Units)</th>\n",
       "    </tr>\n",
       "  </thead>\n",
       "  <tbody>\n",
       "    <tr>\n",
       "      <th>24</th>\n",
       "      <td>3</td>\n",
       "      <td>322488</td>\n",
       "      <td>Gabrielle</td>\n",
       "      <td>Mushroom</td>\n",
       "      <td>42</td>\n",
       "      <td>134</td>\n",
       "    </tr>\n",
       "    <tr>\n",
       "      <th>25</th>\n",
       "      <td>3</td>\n",
       "      <td>322486</td>\n",
       "      <td>Omar</td>\n",
       "      <td>Mushroom</td>\n",
       "      <td>43</td>\n",
       "      <td>132</td>\n",
       "    </tr>\n",
       "    <tr>\n",
       "      <th>26</th>\n",
       "      <td>3</td>\n",
       "      <td>322976</td>\n",
       "      <td>Chuck</td>\n",
       "      <td>Cheese</td>\n",
       "      <td>47</td>\n",
       "      <td>143</td>\n",
       "    </tr>\n",
       "    <tr>\n",
       "      <th>27</th>\n",
       "      <td>3</td>\n",
       "      <td>322488</td>\n",
       "      <td>Gabrielle</td>\n",
       "      <td>Sausage</td>\n",
       "      <td>45</td>\n",
       "      <td>136</td>\n",
       "    </tr>\n",
       "    <tr>\n",
       "      <th>28</th>\n",
       "      <td>3</td>\n",
       "      <td>322976</td>\n",
       "      <td>Chuck</td>\n",
       "      <td>Pepperoni</td>\n",
       "      <td>44</td>\n",
       "      <td>132</td>\n",
       "    </tr>\n",
       "  </tbody>\n",
       "</table>\n",
       "</div>"
      ],
      "text/plain": [
       "    Shift  Clock Number       Name    Product  Production Run Time (Min)  \\\n",
       "24      3        322488  Gabrielle   Mushroom                         42   \n",
       "25      3        322486       Omar   Mushroom                         43   \n",
       "26      3        322976      Chuck     Cheese                         47   \n",
       "27      3        322488  Gabrielle    Sausage                         45   \n",
       "28      3        322976      Chuck  Pepperoni                         44   \n",
       "\n",
       "    Products Produced (Units)  \n",
       "24                        134  \n",
       "25                        132  \n",
       "26                        143  \n",
       "27                        136  \n",
       "28                        132  "
      ]
     },
     "execution_count": 30,
     "metadata": {},
     "output_type": "execute_result"
    }
   ],
   "source": [
    "df_combine.tail()"
   ]
  },
  {
   "cell_type": "code",
   "execution_count": 32,
   "metadata": {},
   "outputs": [
    {
     "data": {
      "text/plain": [
       "(87, 6)"
      ]
     },
     "execution_count": 32,
     "metadata": {},
     "output_type": "execute_result"
    }
   ],
   "source": [
    "df_combine.shape"
   ]
  },
  {
   "cell_type": "markdown",
   "metadata": {},
   "source": [
    "### Do some calculations"
   ]
  },
  {
   "cell_type": "code",
   "execution_count": 46,
   "metadata": {},
   "outputs": [],
   "source": [
    "pivot=df_combine.groupby(['Shift']).mean()"
   ]
  },
  {
   "cell_type": "code",
   "execution_count": 47,
   "metadata": {},
   "outputs": [],
   "source": [
    "shift_prod=pivot.loc[:,\"Production Run Time (Min)\":\"Products Produced (Units)\"]"
   ]
  },
  {
   "cell_type": "code",
   "execution_count": 48,
   "metadata": {},
   "outputs": [
    {
     "name": "stdout",
     "output_type": "stream",
     "text": [
      "       Production Run Time (Min)  Products Produced (Units)\n",
      "Shift                                                      \n",
      "1                      44.689655                  54.482759\n",
      "2                      43.689655                  80.103448\n",
      "3                      43.034483                 128.448276\n"
     ]
    }
   ],
   "source": [
    "print(shift_prod)\n",
    "#It shows that the third shift has the most products produced "
   ]
  },
  {
   "cell_type": "markdown",
   "metadata": {},
   "source": [
    "### Visualization"
   ]
  },
  {
   "cell_type": "code",
   "execution_count": 49,
   "metadata": {},
   "outputs": [
    {
     "data": {
      "image/png": "[encoded data removed]",
      "text/plain": [
       "<Figure size 432x288 with 1 Axes>"
      ]
     },
     "metadata": {
      "needs_background": "light"
     },
     "output_type": "display_data"
    }
   ],
   "source": [
    "shift_prod.plot(kind='bar')\n",
    "plt.show()"
   ]
  },
  {
   "cell_type": "markdown",
   "metadata": {},
   "source": [
    "### Now Create a single excel sheet combining all the excels files in one file"
   ]
  },
  {
   "cell_type": "code",
   "execution_count": 50,
   "metadata": {},
   "outputs": [
    {
     "data": {
      "text/plain": [
       "'C:\\\\Users\\\\sudip\\\\Desktop\\\\Automate Multiple Sheet Excel Reporting'"
      ]
     },
     "execution_count": 50,
     "metadata": {},
     "output_type": "execute_result"
    }
   ],
   "source": [
    "pwd"
   ]
  },
  {
   "cell_type": "code",
   "execution_count": 51,
   "metadata": {},
   "outputs": [],
   "source": [
    "df_combine.to_excel(\"C:\\\\Users\\\\sudip\\\\Desktop\\\\Automate Multiple Sheet Excel Reporting.xlsx\")"
   ]
  },
  {
   "cell_type": "markdown",
   "metadata": {},
   "source": [
    "#### Reference \n",
    "+ https://www.youtube.com/watch?v=1Kcco6koC34\n",
    "+ data reference from the same youtube link description\n",
    "\n",
    "\n",
    "\n",
    "\n",
    "+ Please download the files and practice on your own notebook and like and share my code\n",
    "put my reference: \n",
    "        \n",
    "        Pandit, S.(2021).Automate Multiple Sheet Excel Reporting.Github\n"
   ]
  }
 ],
 "metadata": {
  "kernelspec": {
   "display_name": "Python 3",
   "language": "python",
   "name": "python3"
  },
  "language_info": {
   "codemirror_mode": {
    "name": "ipython",
    "version": 3
   },
   "file_extension": ".py",
   "mimetype": "text/x-python",
   "name": "python",
   "nbconvert_exporter": "python",
   "pygments_lexer": "ipython3",
   "version": "3.8.3"
  }
 },
 "nbformat": 4,
 "nbformat_minor": 4
}
